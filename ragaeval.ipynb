{
 "cells": [
  {
   "cell_type": "code",
   "execution_count": 14,
   "metadata": {},
   "outputs": [],
   "source": [
    "from haystack import Pipeline\n",
    "pipeline = Pipeline()"
   ]
  },
  {
   "cell_type": "code",
   "execution_count": 15,
   "metadata": {},
   "outputs": [],
   "source": [
    "from haystack_integrations.components.evaluators.ragas import RagasEvaluator, RagasMetric"
   ]
  },
  {
   "cell_type": "code",
   "execution_count": 16,
   "metadata": {},
   "outputs": [],
   "source": [
    "QUESTIONS = [\n",
    "    \"Which is the most popular global sport?\",\n",
    "    \"Who created the Python language?\",\n",
    "]\n",
    "CONTEXTS = [\n",
    "    [\n",
    "        \"The popularity of sports can be measured in various ways, including TV viewership, social media presence, number of participants, and economic impact. Football is undoubtedly the world's most popular sport with major events like the FIFA World Cup and sports personalities like Ronaldo and Messi, drawing a followership of more than 4 billion people.\"\n",
    "    ],\n",
    "    [\n",
    "        \"Python, created by Guido van Rossum in the late 1980s, is a high-level general-purpose programming language. Its design philosophy emphasizes code readability, and its language constructs aim to help programmers write clear, logical code for both small and large-scale software projects.\"\n",
    "    ],\n",
    "]\n",
    "RESPONSES = [\n",
    "    \"Football is the most popular sport with around 4 billion followers worldwide\",\n",
    "    \"Python language was created by Guido van Rossum.\",\n",
    "]\n",
    "\n",
    "GROUND_TRUTHS = [\n",
    "    \"Football is the most popular sport\",\n",
    "    \"Python language was created by Guido van Rossum.\",\n",
    "]"
   ]
  },
  {
   "cell_type": "code",
   "execution_count": 17,
   "metadata": {},
   "outputs": [],
   "source": [
    "\n",
    "evaluator_context = RagasEvaluator(metric=RagasMetric.CONTEXT_PRECISION)\n",
    "evaluator_aspect = RagasEvaluator(metric=RagasMetric.ASPECT_CRITIQUE,metric_params={\"name\": \"custom\", \"definition\": \"Is this answer problematic for children?\", \"strictness\": 3},)"
   ]
  },
  {
   "cell_type": "code",
   "execution_count": 18,
   "metadata": {},
   "outputs": [],
   "source": [
    "pipeline.add_component(\"evaluator_context\", evaluator_context)\n",
    "pipeline.add_component(\"evaluator_aspect\", evaluator_aspect)"
   ]
  },
  {
   "cell_type": "code",
   "execution_count": 19,
   "metadata": {},
   "outputs": [
    {
     "name": "stderr",
     "output_type": "stream",
     "text": [
      "Evaluating: 100%|██████████| 2/2 [00:03<00:00,  1.68s/it]\n",
      "Evaluating: 100%|██████████| 2/2 [00:01<00:00,  1.76it/s]\n"
     ]
    }
   ],
   "source": [
    "results = pipeline.run(\n",
    "    {\n",
    "        \"evaluator_context\": {\"questions\": QUESTIONS, \"contexts\": CONTEXTS, \"ground_truths\": GROUND_TRUTHS},\n",
    "        \"evaluator_aspect\": {\"questions\": QUESTIONS, \"contexts\": CONTEXTS, \"responses\": RESPONSES},\n",
    "    }\n",
    ")"
   ]
  },
  {
   "cell_type": "code",
   "execution_count": 20,
   "metadata": {},
   "outputs": [
    {
     "name": "stdout",
     "output_type": "stream",
     "text": [
      "[{'name': 'context_precision', 'score': 0.9999999999}]\n",
      "[{'name': 'context_precision', 'score': 0.9999999999}]\n",
      "[{'name': 'custom', 'score': 0}]\n",
      "[{'name': 'custom', 'score': 0}]\n"
     ]
    }
   ],
   "source": [
    "for component in [\"evaluator_context\", \"evaluator_aspect\"]:\n",
    "    for output in results[component][\"results\"]:\n",
    "        print(output)"
   ]
  }
 ],
 "metadata": {
  "kernelspec": {
   "display_name": "harshENV",
   "language": "python",
   "name": "python3"
  },
  "language_info": {
   "codemirror_mode": {
    "name": "ipython",
    "version": 3
   },
   "file_extension": ".py",
   "mimetype": "text/x-python",
   "name": "python",
   "nbconvert_exporter": "python",
   "pygments_lexer": "ipython3",
   "version": "3.12.3"
  }
 },
 "nbformat": 4,
 "nbformat_minor": 2
}
